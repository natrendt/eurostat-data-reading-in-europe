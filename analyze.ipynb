{
 "cells": [
  {
   "cell_type": "code",
   "execution_count": 1,
   "metadata": {},
   "outputs": [],
   "source": [
    "import pandas as pd\n",
    "import numpy as np\n",
    "import matplotlib.pyplot as plt\n",
    "import warnings\n",
    "warnings.filterwarnings(\"ignore\")\n"
   ]
  },
  {
   "cell_type": "markdown",
   "metadata": {},
   "source": [
    "## Create *data* folder"
   ]
  },
  {
   "cell_type": "code",
   "execution_count": 2,
   "metadata": {},
   "outputs": [],
   "source": [
    "# excel_file = 'ilc_scp27_spreadsheet.xlsx'\n",
    "# all_sheets = pd.read_excel(excel_file, sheet_name=None)\n",
    "# sheets = all_sheets.keys()\n",
    "\n",
    "# for sheet_name in sheets:\n",
    "#     sheet = pd.read_excel(excel_file, sheet_name=sheet_name)\n",
    "#     sheet.to_csv(\"data/%s.csv\" % sheet_name, index=False)"
   ]
  },
  {
   "cell_type": "markdown",
   "metadata": {},
   "source": [
    "## Finding useful information about each sheet"
   ]
  },
  {
   "cell_type": "code",
   "execution_count": 3,
   "metadata": {},
   "outputs": [
    {
     "data": {
      "text/html": [
       "<div>\n",
       "<style scoped>\n",
       "    .dataframe tbody tr th:only-of-type {\n",
       "        vertical-align: middle;\n",
       "    }\n",
       "\n",
       "    .dataframe tbody tr th {\n",
       "        vertical-align: top;\n",
       "    }\n",
       "\n",
       "    .dataframe thead th {\n",
       "        text-align: right;\n",
       "    }\n",
       "</style>\n",
       "<table border=\"1\" class=\"dataframe\">\n",
       "  <thead>\n",
       "    <tr style=\"text-align: right;\">\n",
       "      <th></th>\n",
       "      <th>NaN</th>\n",
       "      <th>Contents</th>\n",
       "      <th>Time frequency</th>\n",
       "      <th>International Standard Classification of Education (ISCED 2011)</th>\n",
       "      <th>Sex</th>\n",
       "      <th>Age class</th>\n",
       "      <th>Unit of measure</th>\n",
       "      <th>Time</th>\n",
       "    </tr>\n",
       "  </thead>\n",
       "  <tbody>\n",
       "    <tr>\n",
       "      <th>0</th>\n",
       "      <td>NaN</td>\n",
       "      <td>Sheet 1</td>\n",
       "      <td>Annual</td>\n",
       "      <td>All ISCED 2011 levels</td>\n",
       "      <td>Total</td>\n",
       "      <td>From 16 to 24 years</td>\n",
       "      <td>Percentage</td>\n",
       "      <td>2022</td>\n",
       "    </tr>\n",
       "    <tr>\n",
       "      <th>1</th>\n",
       "      <td>NaN</td>\n",
       "      <td>Sheet 2</td>\n",
       "      <td>Annual</td>\n",
       "      <td>All ISCED 2011 levels</td>\n",
       "      <td>Total</td>\n",
       "      <td>From 16 to 29 years</td>\n",
       "      <td>Percentage</td>\n",
       "      <td>2022</td>\n",
       "    </tr>\n",
       "    <tr>\n",
       "      <th>2</th>\n",
       "      <td>NaN</td>\n",
       "      <td>Sheet 3</td>\n",
       "      <td>Annual</td>\n",
       "      <td>All ISCED 2011 levels</td>\n",
       "      <td>Total</td>\n",
       "      <td>From 16 to 44 years</td>\n",
       "      <td>Percentage</td>\n",
       "      <td>2022</td>\n",
       "    </tr>\n",
       "    <tr>\n",
       "      <th>3</th>\n",
       "      <td>NaN</td>\n",
       "      <td>Sheet 4</td>\n",
       "      <td>Annual</td>\n",
       "      <td>All ISCED 2011 levels</td>\n",
       "      <td>Total</td>\n",
       "      <td>From 16 to 64 years</td>\n",
       "      <td>Percentage</td>\n",
       "      <td>2022</td>\n",
       "    </tr>\n",
       "    <tr>\n",
       "      <th>4</th>\n",
       "      <td>NaN</td>\n",
       "      <td>Sheet 5</td>\n",
       "      <td>Annual</td>\n",
       "      <td>All ISCED 2011 levels</td>\n",
       "      <td>Total</td>\n",
       "      <td>16 years or over</td>\n",
       "      <td>Percentage</td>\n",
       "      <td>2022</td>\n",
       "    </tr>\n",
       "    <tr>\n",
       "      <th>...</th>\n",
       "      <td>...</td>\n",
       "      <td>...</td>\n",
       "      <td>...</td>\n",
       "      <td>...</td>\n",
       "      <td>...</td>\n",
       "      <td>...</td>\n",
       "      <td>...</td>\n",
       "      <td>...</td>\n",
       "    </tr>\n",
       "    <tr>\n",
       "      <th>199</th>\n",
       "      <td>NaN</td>\n",
       "      <td>Sheet 200</td>\n",
       "      <td>Annual</td>\n",
       "      <td>Tertiary education (levels 5-8)</td>\n",
       "      <td>Females</td>\n",
       "      <td>From 55 to 64 years</td>\n",
       "      <td>Percentage</td>\n",
       "      <td>2022</td>\n",
       "    </tr>\n",
       "    <tr>\n",
       "      <th>200</th>\n",
       "      <td>NaN</td>\n",
       "      <td>Sheet 201</td>\n",
       "      <td>Annual</td>\n",
       "      <td>Tertiary education (levels 5-8)</td>\n",
       "      <td>Females</td>\n",
       "      <td>From 65 to 74 years</td>\n",
       "      <td>Percentage</td>\n",
       "      <td>2022</td>\n",
       "    </tr>\n",
       "    <tr>\n",
       "      <th>201</th>\n",
       "      <td>NaN</td>\n",
       "      <td>Sheet 202</td>\n",
       "      <td>Annual</td>\n",
       "      <td>Tertiary education (levels 5-8)</td>\n",
       "      <td>Females</td>\n",
       "      <td>65 years or over</td>\n",
       "      <td>Percentage</td>\n",
       "      <td>2022</td>\n",
       "    </tr>\n",
       "    <tr>\n",
       "      <th>202</th>\n",
       "      <td>NaN</td>\n",
       "      <td>Sheet 203</td>\n",
       "      <td>Annual</td>\n",
       "      <td>Tertiary education (levels 5-8)</td>\n",
       "      <td>Females</td>\n",
       "      <td>From 75 to 84 years</td>\n",
       "      <td>Percentage</td>\n",
       "      <td>2022</td>\n",
       "    </tr>\n",
       "    <tr>\n",
       "      <th>203</th>\n",
       "      <td>NaN</td>\n",
       "      <td>Sheet 204</td>\n",
       "      <td>Annual</td>\n",
       "      <td>Tertiary education (levels 5-8)</td>\n",
       "      <td>Females</td>\n",
       "      <td>75 years or over</td>\n",
       "      <td>Percentage</td>\n",
       "      <td>2022</td>\n",
       "    </tr>\n",
       "  </tbody>\n",
       "</table>\n",
       "<p>204 rows × 8 columns</p>\n",
       "</div>"
      ],
      "text/plain": [
       "0    NaN   Contents Time frequency  \\\n",
       "0    NaN    Sheet 1         Annual   \n",
       "1    NaN    Sheet 2         Annual   \n",
       "2    NaN    Sheet 3         Annual   \n",
       "3    NaN    Sheet 4         Annual   \n",
       "4    NaN    Sheet 5         Annual   \n",
       "..   ...        ...            ...   \n",
       "199  NaN  Sheet 200         Annual   \n",
       "200  NaN  Sheet 201         Annual   \n",
       "201  NaN  Sheet 202         Annual   \n",
       "202  NaN  Sheet 203         Annual   \n",
       "203  NaN  Sheet 204         Annual   \n",
       "\n",
       "0   International Standard Classification of Education (ISCED 2011)      Sex  \\\n",
       "0                                All ISCED 2011 levels                 Total   \n",
       "1                                All ISCED 2011 levels                 Total   \n",
       "2                                All ISCED 2011 levels                 Total   \n",
       "3                                All ISCED 2011 levels                 Total   \n",
       "4                                All ISCED 2011 levels                 Total   \n",
       "..                                                 ...                   ...   \n",
       "199                    Tertiary education (levels 5-8)               Females   \n",
       "200                    Tertiary education (levels 5-8)               Females   \n",
       "201                    Tertiary education (levels 5-8)               Females   \n",
       "202                    Tertiary education (levels 5-8)               Females   \n",
       "203                    Tertiary education (levels 5-8)               Females   \n",
       "\n",
       "0              Age class Unit of measure  Time  \n",
       "0    From 16 to 24 years      Percentage  2022  \n",
       "1    From 16 to 29 years      Percentage  2022  \n",
       "2    From 16 to 44 years      Percentage  2022  \n",
       "3    From 16 to 64 years      Percentage  2022  \n",
       "4       16 years or over      Percentage  2022  \n",
       "..                   ...             ...   ...  \n",
       "199  From 55 to 64 years      Percentage  2022  \n",
       "200  From 65 to 74 years      Percentage  2022  \n",
       "201     65 years or over      Percentage  2022  \n",
       "202  From 75 to 84 years      Percentage  2022  \n",
       "203     75 years or over      Percentage  2022  \n",
       "\n",
       "[204 rows x 8 columns]"
      ]
     },
     "execution_count": 3,
     "metadata": {},
     "output_type": "execute_result"
    }
   ],
   "source": [
    "xslx = pd.read_excel('ilc_scp27_spreadsheet.xlsx')\n",
    "xslx = xslx.drop(xslx.index[0:13])\n",
    "xslx = xslx.reset_index(drop=True)\n",
    "\n",
    "#make the first row the column names\n",
    "xslx.columns = xslx.iloc[0]\n",
    "xslx = xslx.drop(xslx.index[0])\n",
    "xslx = xslx.reset_index(drop=True) \n",
    "xslx"
   ]
  },
  {
   "cell_type": "code",
   "execution_count": 4,
   "metadata": {},
   "outputs": [
    {
     "name": "stdout",
     "output_type": "stream",
     "text": [
      "Column: Time frequency_Annual has all values the same\n",
      "Column: Unit of measure_Percentage has all values the same\n",
      "Column: Time_2022 has all values the same\n"
     ]
    }
   ],
   "source": [
    "one_hot_encoded_xslx = pd.get_dummies(xslx)\n",
    "sum_values = one_hot_encoded_xslx.sum()\n",
    "\n",
    "for index in sum_values.index:\n",
    "    value = sum_values.loc[index]\n",
    "    if value == xslx.shape[0]:\n",
    "        print(f\"Column: {index} has all values the same\")"
   ]
  },
  {
   "cell_type": "code",
   "execution_count": 5,
   "metadata": {},
   "outputs": [
    {
     "data": {
      "text/html": [
       "<div>\n",
       "<style scoped>\n",
       "    .dataframe tbody tr th:only-of-type {\n",
       "        vertical-align: middle;\n",
       "    }\n",
       "\n",
       "    .dataframe tbody tr th {\n",
       "        vertical-align: top;\n",
       "    }\n",
       "\n",
       "    .dataframe thead th {\n",
       "        text-align: right;\n",
       "    }\n",
       "</style>\n",
       "<table border=\"1\" class=\"dataframe\">\n",
       "  <thead>\n",
       "    <tr style=\"text-align: right;\">\n",
       "      <th></th>\n",
       "      <th>contents</th>\n",
       "      <th>isced_2011</th>\n",
       "      <th>sex</th>\n",
       "      <th>age</th>\n",
       "    </tr>\n",
       "  </thead>\n",
       "  <tbody>\n",
       "    <tr>\n",
       "      <th>0</th>\n",
       "      <td>Sheet 1</td>\n",
       "      <td>All ISCED 2011 levels</td>\n",
       "      <td>Total</td>\n",
       "      <td>From 16 to 24 years</td>\n",
       "    </tr>\n",
       "    <tr>\n",
       "      <th>1</th>\n",
       "      <td>Sheet 2</td>\n",
       "      <td>All ISCED 2011 levels</td>\n",
       "      <td>Total</td>\n",
       "      <td>From 16 to 29 years</td>\n",
       "    </tr>\n",
       "    <tr>\n",
       "      <th>2</th>\n",
       "      <td>Sheet 3</td>\n",
       "      <td>All ISCED 2011 levels</td>\n",
       "      <td>Total</td>\n",
       "      <td>From 16 to 44 years</td>\n",
       "    </tr>\n",
       "    <tr>\n",
       "      <th>3</th>\n",
       "      <td>Sheet 4</td>\n",
       "      <td>All ISCED 2011 levels</td>\n",
       "      <td>Total</td>\n",
       "      <td>From 16 to 64 years</td>\n",
       "    </tr>\n",
       "    <tr>\n",
       "      <th>4</th>\n",
       "      <td>Sheet 5</td>\n",
       "      <td>All ISCED 2011 levels</td>\n",
       "      <td>Total</td>\n",
       "      <td>16 years or over</td>\n",
       "    </tr>\n",
       "    <tr>\n",
       "      <th>...</th>\n",
       "      <td>...</td>\n",
       "      <td>...</td>\n",
       "      <td>...</td>\n",
       "      <td>...</td>\n",
       "    </tr>\n",
       "    <tr>\n",
       "      <th>199</th>\n",
       "      <td>Sheet 200</td>\n",
       "      <td>Tertiary education (levels 5-8)</td>\n",
       "      <td>Females</td>\n",
       "      <td>From 55 to 64 years</td>\n",
       "    </tr>\n",
       "    <tr>\n",
       "      <th>200</th>\n",
       "      <td>Sheet 201</td>\n",
       "      <td>Tertiary education (levels 5-8)</td>\n",
       "      <td>Females</td>\n",
       "      <td>From 65 to 74 years</td>\n",
       "    </tr>\n",
       "    <tr>\n",
       "      <th>201</th>\n",
       "      <td>Sheet 202</td>\n",
       "      <td>Tertiary education (levels 5-8)</td>\n",
       "      <td>Females</td>\n",
       "      <td>65 years or over</td>\n",
       "    </tr>\n",
       "    <tr>\n",
       "      <th>202</th>\n",
       "      <td>Sheet 203</td>\n",
       "      <td>Tertiary education (levels 5-8)</td>\n",
       "      <td>Females</td>\n",
       "      <td>From 75 to 84 years</td>\n",
       "    </tr>\n",
       "    <tr>\n",
       "      <th>203</th>\n",
       "      <td>Sheet 204</td>\n",
       "      <td>Tertiary education (levels 5-8)</td>\n",
       "      <td>Females</td>\n",
       "      <td>75 years or over</td>\n",
       "    </tr>\n",
       "  </tbody>\n",
       "</table>\n",
       "<p>204 rows × 4 columns</p>\n",
       "</div>"
      ],
      "text/plain": [
       "0     contents                       isced_2011      sex                  age\n",
       "0      Sheet 1            All ISCED 2011 levels    Total  From 16 to 24 years\n",
       "1      Sheet 2            All ISCED 2011 levels    Total  From 16 to 29 years\n",
       "2      Sheet 3            All ISCED 2011 levels    Total  From 16 to 44 years\n",
       "3      Sheet 4            All ISCED 2011 levels    Total  From 16 to 64 years\n",
       "4      Sheet 5            All ISCED 2011 levels    Total     16 years or over\n",
       "..         ...                              ...      ...                  ...\n",
       "199  Sheet 200  Tertiary education (levels 5-8)  Females  From 55 to 64 years\n",
       "200  Sheet 201  Tertiary education (levels 5-8)  Females  From 65 to 74 years\n",
       "201  Sheet 202  Tertiary education (levels 5-8)  Females     65 years or over\n",
       "202  Sheet 203  Tertiary education (levels 5-8)  Females  From 75 to 84 years\n",
       "203  Sheet 204  Tertiary education (levels 5-8)  Females     75 years or over\n",
       "\n",
       "[204 rows x 4 columns]"
      ]
     },
     "execution_count": 5,
     "metadata": {},
     "output_type": "execute_result"
    }
   ],
   "source": [
    "#drop the columns that are NaN or not needed\n",
    "xslx_without_nan = xslx.drop(xslx.columns[0], axis=1)\n",
    "xslx_summary = xslx_without_nan.drop(columns=['Time frequency', 'Unit of measure', 'Time'], axis=1)\n",
    "xslx_summary.rename(columns={'International Standard Classification of Education (ISCED 2011)': 'ISCED_2011'}, inplace=True)\n",
    "xslx_summary.rename(columns={'Age class': 'Age'}, inplace=True)\n",
    "xslx_summary.columns = xslx_summary.columns.str.lower()\n",
    "xslx_summary"
   ]
  },
  {
   "cell_type": "markdown",
   "metadata": {},
   "source": [
    "## Show unique categories in selected columns"
   ]
  },
  {
   "cell_type": "code",
   "execution_count": 6,
   "metadata": {},
   "outputs": [
    {
     "name": "stdout",
     "output_type": "stream",
     "text": [
      "['All ISCED 2011 levels'\n",
      " 'Less than primary, primary and lower secondary education (levels 0-2)'\n",
      " 'Upper secondary and post-secondary non-tertiary education (levels 3 and 4)'\n",
      " 'Tertiary education (levels 5-8)']\n",
      "['Total' 'Males' 'Females']\n",
      "['From 16 to 24 years' 'From 16 to 29 years' 'From 16 to 44 years'\n",
      " 'From 16 to 64 years' '16 years or over' 'From 20 to 64 years'\n",
      " 'From 25 to 29 years' 'From 25 to 34 years' 'From 30 to 54 years'\n",
      " 'From 35 to 44 years' 'From 45 to 54 years' 'From 45 to 64 years'\n",
      " 'From 55 to 64 years' 'From 65 to 74 years' '65 years or over'\n",
      " 'From 75 to 84 years' '75 years or over']\n"
     ]
    }
   ],
   "source": [
    "print(xslx_summary['isced_2011'].unique())\n",
    "print(xslx_summary['sex'].unique())\n",
    "print(xslx_summary['age'].unique())"
   ]
  },
  {
   "cell_type": "markdown",
   "metadata": {},
   "source": [
    "## Substract useful data from each sheet"
   ]
  },
  {
   "cell_type": "markdown",
   "metadata": {},
   "source": [
    "In this case for each sheet I am substracting three categories: *sex*, *age class* and *ISCED 2011 (education level)*. I decided to compare Poland and European Union average values in four ranges (read books in last 12 months):\n",
    " - none\n",
    " - less than five\n",
    " - more than five, less than 9\n",
    " - ten or more"
   ]
  },
  {
   "cell_type": "code",
   "execution_count": 7,
   "metadata": {},
   "outputs": [],
   "source": [
    "def generate_description(df):\n",
    "    first_value = str(df.at[0, 'Unnamed: 2'])\n",
    "    second_value = str(df.at[1, 'Unnamed: 2'])\n",
    "    third_value = str(df.at[2, 'Unnamed: 2']) \n",
    "    descripted_features = (first_value, second_value, third_value)\n",
    "    return descripted_features"
   ]
  },
  {
   "cell_type": "code",
   "execution_count": 8,
   "metadata": {},
   "outputs": [],
   "source": [
    "dictionary = {}\n",
    "def features_dictionary(sheet_name, description):\n",
    "    dictionary.update({sheet_name: description})\n",
    "    return dictionary"
   ]
  },
  {
   "cell_type": "code",
   "execution_count": 9,
   "metadata": {},
   "outputs": [],
   "source": [
    "import os\n",
    "import pandas as pd\n",
    "\n",
    "# Paths to the data folders\n",
    "data_folder = 'data'\n",
    "data_renamed_folder = 'data_new'\n",
    "\n",
    "# Create the data_renamed folder if it doesn't exist\n",
    "os.makedirs(data_renamed_folder, exist_ok=True)\n",
    "\n",
    "# List all files in the data folder\n",
    "files = [f for f in os.listdir(data_folder) if f.endswith('.csv')]"
   ]
  },
  {
   "cell_type": "code",
   "execution_count": 10,
   "metadata": {},
   "outputs": [],
   "source": [
    "counter = 1\n",
    "\n",
    "for file in files:\n",
    "    file_path = os.path.join(data_folder, file)\n",
    "    if not os.path.isfile(file_path):\n",
    "        print(f\"File not found: {file_path}\")\n",
    "        continue\n",
    "    \n",
    "    df = pd.read_csv(file_path)\n",
    "\n",
    "    filtered_df = pd.concat([df[df.apply(lambda row: row.astype(str).str.contains('(ISCED 2011)').any(), axis=1)],\n",
    "                            df[df.apply(lambda row: row.astype(str).str.contains('Sex').any(), axis=1)],\n",
    "                            df[df.apply(lambda row: row.astype(str).str.contains('Age class').any(), axis=1)],\n",
    "                            df[df.apply(lambda row: row.astype(str).str.contains('N_BOOK').any(), axis=1)],\n",
    "                            df[df.apply(lambda row: row.astype(str).str.contains('European Union').any(), axis=1)],\n",
    "                            df[df.apply(lambda row: row.astype(str).str.contains('Poland').any(), axis=1)]] \n",
    "                            )\n",
    "\n",
    "    filtered_df = filtered_df.reset_index(drop=True)\n",
    "    description = generate_description(filtered_df)\n",
    "    features_dictionary(file, description)\n",
    "    filtered_df.drop(filtered_df.index[:3], inplace=True)\n",
    "\n",
    "    filtered_df.columns = filtered_df.iloc[0]\n",
    "    filtered_df = filtered_df.drop(filtered_df.index[0])\n",
    "    filtered_df = filtered_df.reset_index(drop=True)\n",
    "    filtered_df.to_csv('data_new/' + file, index=False)\n",
    "    counter += 1"
   ]
  },
  {
   "cell_type": "code",
   "execution_count": 11,
   "metadata": {},
   "outputs": [
    {
     "name": "stdout",
     "output_type": "stream",
     "text": [
      "['All ISCED 2011 levels', 'Less than primary, primary and lower secondary education (levels 0-2)', 'Upper secondary and post-secondary non-tertiary education (levels 3 and 4)', 'Tertiary education (levels 5-8)']\n",
      "['Total', 'Males', 'Females']\n",
      "['From 16 to 24 years', 'From 16 to 29 years', 'From 16 to 44 years', 'From 16 to 64 years', '16 years or over', 'From 20 to 64 years', 'From 25 to 29 years', 'From 25 to 34 years', 'From 30 to 54 years', 'From 35 to 44 years', 'From 45 to 54 years', 'From 45 to 64 years', 'From 55 to 64 years', 'From 65 to 74 years', '65 years or over', 'From 75 to 84 years', '75 years or over']\n"
     ]
    }
   ],
   "source": [
    "education_levels = xslx_summary['isced_2011'].unique().tolist()\n",
    "gender = xslx_summary['sex'].unique().tolist()\n",
    "age_group = xslx_summary['age'].unique().tolist() \n",
    "print(education_levels)\n",
    "print(gender)\n",
    "print(age_group)"
   ]
  },
  {
   "cell_type": "code",
   "execution_count": 12,
   "metadata": {},
   "outputs": [],
   "source": [
    "def create_dataframe_to_plot(features_dict, selected_education_level=None, selected_gender=None, selected_age_group=None):\n",
    "    # List all files in the data_renamed folder\n",
    "    files = [f for f in os.listdir(data_renamed_folder) if f.endswith('.csv')]\n",
    "    data_folder = 'data_new'\n",
    "    \n",
    "    # Loop through each item in the features dictionary\n",
    "    for item in features_dict.items():\n",
    "        \n",
    "        item_name = item[0]\n",
    "        item_description = item[1]\n",
    "        item_description_education = item_description[0]\n",
    "        item_description_gender = item_description[1]\n",
    "        item_description_age = item_description[2]\n",
    "\n",
    "        if selected_gender == item_description_gender and selected_education_level == item_description_education and selected_age_group == item_description_age:\n",
    "            #print(f\"Processing: {item_name} features with value {item_description_gender}\")\n",
    "            print(f\"kot numer {item_name} widzi człowieka {item_description_gender}, który ma wykształcenie na poziomie {item_description_education} i jest w grupie wiekowej {item_description_age}\")\n",
    "            file_path = os.path.join(data_folder, item_name)\n",
    "            print(file_path)\n",
    "            df = pd.read_csv(file_path)\n",
    "\n",
    "    return df\n",
    "       "
   ]
  },
  {
   "cell_type": "code",
   "execution_count": 58,
   "metadata": {},
   "outputs": [
    {
     "name": "stdout",
     "output_type": "stream",
     "text": [
      "kot numer Sheet 21.csv widzi człowieka Males, który ma wykształcenie na poziomie All ISCED 2011 levels i jest w grupie wiekowej From 16 to 64 years\n",
      "data_new\\Sheet 21.csv\n",
      "kot numer Sheet 38.csv widzi człowieka Females, który ma wykształcenie na poziomie All ISCED 2011 levels i jest w grupie wiekowej From 16 to 64 years\n",
      "data_new\\Sheet 38.csv\n"
     ]
    }
   ],
   "source": [
    "created1 = create_dataframe_to_plot(dictionary, selected_gender='Males', selected_age_group='From 16 to 64 years', selected_education_level='All ISCED 2011 levels')\n",
    "created2 = create_dataframe_to_plot(dictionary, selected_gender='Females', selected_age_group='From 16 to 64 years', selected_education_level='All ISCED 2011 levels')"
   ]
  },
  {
   "cell_type": "code",
   "execution_count": 70,
   "metadata": {},
   "outputs": [
    {
     "data": {
      "application/vnd.plotly.v1+json": {
       "config": {
        "plotlyServerURL": "https://plot.ly"
       },
       "data": [
        {
         "domain": {
          "x": [
           0,
           0.45
          ],
          "y": [
           0,
           1
          ]
         },
         "labels": [
          "No books",
          "Less than 5 books",
          "From 5 to 9 books",
          "10 books or more"
         ],
         "name": "EU",
         "type": "pie",
         "values": [
          54.8,
          26,
          10,
          9.3
         ]
        },
        {
         "domain": {
          "x": [
           0.55,
           1
          ],
          "y": [
           0,
           1
          ]
         },
         "labels": [
          "No books",
          "Less than 5 books",
          "From 5 to 9 books",
          "10 books or more"
         ],
         "name": "Poland",
         "type": "pie",
         "values": [
          57.7,
          22.9,
          9.5,
          9.9
         ]
        }
       ],
       "layout": {
        "annotations": [
         {
          "font": {
           "size": 20
          },
          "showarrow": false,
          "text": "EU",
          "x": 0.25,
          "xanchor": "center",
          "xref": "paper",
          "y": 1,
          "yanchor": "bottom",
          "yref": "paper"
         },
         {
          "font": {
           "size": 20
          },
          "showarrow": false,
          "text": "Poland",
          "x": 0.75,
          "xanchor": "center",
          "xref": "paper",
          "y": 1,
          "yanchor": "bottom",
          "yref": "paper"
         }
        ],
        "template": {
         "data": {
          "bar": [
           {
            "error_x": {
             "color": "#2a3f5f"
            },
            "error_y": {
             "color": "#2a3f5f"
            },
            "marker": {
             "line": {
              "color": "#E5ECF6",
              "width": 0.5
             },
             "pattern": {
              "fillmode": "overlay",
              "size": 10,
              "solidity": 0.2
             }
            },
            "type": "bar"
           }
          ],
          "barpolar": [
           {
            "marker": {
             "line": {
              "color": "#E5ECF6",
              "width": 0.5
             },
             "pattern": {
              "fillmode": "overlay",
              "size": 10,
              "solidity": 0.2
             }
            },
            "type": "barpolar"
           }
          ],
          "carpet": [
           {
            "aaxis": {
             "endlinecolor": "#2a3f5f",
             "gridcolor": "white",
             "linecolor": "white",
             "minorgridcolor": "white",
             "startlinecolor": "#2a3f5f"
            },
            "baxis": {
             "endlinecolor": "#2a3f5f",
             "gridcolor": "white",
             "linecolor": "white",
             "minorgridcolor": "white",
             "startlinecolor": "#2a3f5f"
            },
            "type": "carpet"
           }
          ],
          "choropleth": [
           {
            "colorbar": {
             "outlinewidth": 0,
             "ticks": ""
            },
            "type": "choropleth"
           }
          ],
          "contour": [
           {
            "colorbar": {
             "outlinewidth": 0,
             "ticks": ""
            },
            "colorscale": [
             [
              0,
              "#0d0887"
             ],
             [
              0.1111111111111111,
              "#46039f"
             ],
             [
              0.2222222222222222,
              "#7201a8"
             ],
             [
              0.3333333333333333,
              "#9c179e"
             ],
             [
              0.4444444444444444,
              "#bd3786"
             ],
             [
              0.5555555555555556,
              "#d8576b"
             ],
             [
              0.6666666666666666,
              "#ed7953"
             ],
             [
              0.7777777777777778,
              "#fb9f3a"
             ],
             [
              0.8888888888888888,
              "#fdca26"
             ],
             [
              1,
              "#f0f921"
             ]
            ],
            "type": "contour"
           }
          ],
          "contourcarpet": [
           {
            "colorbar": {
             "outlinewidth": 0,
             "ticks": ""
            },
            "type": "contourcarpet"
           }
          ],
          "heatmap": [
           {
            "colorbar": {
             "outlinewidth": 0,
             "ticks": ""
            },
            "colorscale": [
             [
              0,
              "#0d0887"
             ],
             [
              0.1111111111111111,
              "#46039f"
             ],
             [
              0.2222222222222222,
              "#7201a8"
             ],
             [
              0.3333333333333333,
              "#9c179e"
             ],
             [
              0.4444444444444444,
              "#bd3786"
             ],
             [
              0.5555555555555556,
              "#d8576b"
             ],
             [
              0.6666666666666666,
              "#ed7953"
             ],
             [
              0.7777777777777778,
              "#fb9f3a"
             ],
             [
              0.8888888888888888,
              "#fdca26"
             ],
             [
              1,
              "#f0f921"
             ]
            ],
            "type": "heatmap"
           }
          ],
          "heatmapgl": [
           {
            "colorbar": {
             "outlinewidth": 0,
             "ticks": ""
            },
            "colorscale": [
             [
              0,
              "#0d0887"
             ],
             [
              0.1111111111111111,
              "#46039f"
             ],
             [
              0.2222222222222222,
              "#7201a8"
             ],
             [
              0.3333333333333333,
              "#9c179e"
             ],
             [
              0.4444444444444444,
              "#bd3786"
             ],
             [
              0.5555555555555556,
              "#d8576b"
             ],
             [
              0.6666666666666666,
              "#ed7953"
             ],
             [
              0.7777777777777778,
              "#fb9f3a"
             ],
             [
              0.8888888888888888,
              "#fdca26"
             ],
             [
              1,
              "#f0f921"
             ]
            ],
            "type": "heatmapgl"
           }
          ],
          "histogram": [
           {
            "marker": {
             "pattern": {
              "fillmode": "overlay",
              "size": 10,
              "solidity": 0.2
             }
            },
            "type": "histogram"
           }
          ],
          "histogram2d": [
           {
            "colorbar": {
             "outlinewidth": 0,
             "ticks": ""
            },
            "colorscale": [
             [
              0,
              "#0d0887"
             ],
             [
              0.1111111111111111,
              "#46039f"
             ],
             [
              0.2222222222222222,
              "#7201a8"
             ],
             [
              0.3333333333333333,
              "#9c179e"
             ],
             [
              0.4444444444444444,
              "#bd3786"
             ],
             [
              0.5555555555555556,
              "#d8576b"
             ],
             [
              0.6666666666666666,
              "#ed7953"
             ],
             [
              0.7777777777777778,
              "#fb9f3a"
             ],
             [
              0.8888888888888888,
              "#fdca26"
             ],
             [
              1,
              "#f0f921"
             ]
            ],
            "type": "histogram2d"
           }
          ],
          "histogram2dcontour": [
           {
            "colorbar": {
             "outlinewidth": 0,
             "ticks": ""
            },
            "colorscale": [
             [
              0,
              "#0d0887"
             ],
             [
              0.1111111111111111,
              "#46039f"
             ],
             [
              0.2222222222222222,
              "#7201a8"
             ],
             [
              0.3333333333333333,
              "#9c179e"
             ],
             [
              0.4444444444444444,
              "#bd3786"
             ],
             [
              0.5555555555555556,
              "#d8576b"
             ],
             [
              0.6666666666666666,
              "#ed7953"
             ],
             [
              0.7777777777777778,
              "#fb9f3a"
             ],
             [
              0.8888888888888888,
              "#fdca26"
             ],
             [
              1,
              "#f0f921"
             ]
            ],
            "type": "histogram2dcontour"
           }
          ],
          "mesh3d": [
           {
            "colorbar": {
             "outlinewidth": 0,
             "ticks": ""
            },
            "type": "mesh3d"
           }
          ],
          "parcoords": [
           {
            "line": {
             "colorbar": {
              "outlinewidth": 0,
              "ticks": ""
             }
            },
            "type": "parcoords"
           }
          ],
          "pie": [
           {
            "automargin": true,
            "type": "pie"
           }
          ],
          "scatter": [
           {
            "fillpattern": {
             "fillmode": "overlay",
             "size": 10,
             "solidity": 0.2
            },
            "type": "scatter"
           }
          ],
          "scatter3d": [
           {
            "line": {
             "colorbar": {
              "outlinewidth": 0,
              "ticks": ""
             }
            },
            "marker": {
             "colorbar": {
              "outlinewidth": 0,
              "ticks": ""
             }
            },
            "type": "scatter3d"
           }
          ],
          "scattercarpet": [
           {
            "marker": {
             "colorbar": {
              "outlinewidth": 0,
              "ticks": ""
             }
            },
            "type": "scattercarpet"
           }
          ],
          "scattergeo": [
           {
            "marker": {
             "colorbar": {
              "outlinewidth": 0,
              "ticks": ""
             }
            },
            "type": "scattergeo"
           }
          ],
          "scattergl": [
           {
            "marker": {
             "colorbar": {
              "outlinewidth": 0,
              "ticks": ""
             }
            },
            "type": "scattergl"
           }
          ],
          "scattermapbox": [
           {
            "marker": {
             "colorbar": {
              "outlinewidth": 0,
              "ticks": ""
             }
            },
            "type": "scattermapbox"
           }
          ],
          "scatterpolar": [
           {
            "marker": {
             "colorbar": {
              "outlinewidth": 0,
              "ticks": ""
             }
            },
            "type": "scatterpolar"
           }
          ],
          "scatterpolargl": [
           {
            "marker": {
             "colorbar": {
              "outlinewidth": 0,
              "ticks": ""
             }
            },
            "type": "scatterpolargl"
           }
          ],
          "scatterternary": [
           {
            "marker": {
             "colorbar": {
              "outlinewidth": 0,
              "ticks": ""
             }
            },
            "type": "scatterternary"
           }
          ],
          "surface": [
           {
            "colorbar": {
             "outlinewidth": 0,
             "ticks": ""
            },
            "colorscale": [
             [
              0,
              "#0d0887"
             ],
             [
              0.1111111111111111,
              "#46039f"
             ],
             [
              0.2222222222222222,
              "#7201a8"
             ],
             [
              0.3333333333333333,
              "#9c179e"
             ],
             [
              0.4444444444444444,
              "#bd3786"
             ],
             [
              0.5555555555555556,
              "#d8576b"
             ],
             [
              0.6666666666666666,
              "#ed7953"
             ],
             [
              0.7777777777777778,
              "#fb9f3a"
             ],
             [
              0.8888888888888888,
              "#fdca26"
             ],
             [
              1,
              "#f0f921"
             ]
            ],
            "type": "surface"
           }
          ],
          "table": [
           {
            "cells": {
             "fill": {
              "color": "#EBF0F8"
             },
             "line": {
              "color": "white"
             }
            },
            "header": {
             "fill": {
              "color": "#C8D4E3"
             },
             "line": {
              "color": "white"
             }
            },
            "type": "table"
           }
          ]
         },
         "layout": {
          "annotationdefaults": {
           "arrowcolor": "#2a3f5f",
           "arrowhead": 0,
           "arrowwidth": 1
          },
          "autotypenumbers": "strict",
          "coloraxis": {
           "colorbar": {
            "outlinewidth": 0,
            "ticks": ""
           }
          },
          "colorscale": {
           "diverging": [
            [
             0,
             "#8e0152"
            ],
            [
             0.1,
             "#c51b7d"
            ],
            [
             0.2,
             "#de77ae"
            ],
            [
             0.3,
             "#f1b6da"
            ],
            [
             0.4,
             "#fde0ef"
            ],
            [
             0.5,
             "#f7f7f7"
            ],
            [
             0.6,
             "#e6f5d0"
            ],
            [
             0.7,
             "#b8e186"
            ],
            [
             0.8,
             "#7fbc41"
            ],
            [
             0.9,
             "#4d9221"
            ],
            [
             1,
             "#276419"
            ]
           ],
           "sequential": [
            [
             0,
             "#0d0887"
            ],
            [
             0.1111111111111111,
             "#46039f"
            ],
            [
             0.2222222222222222,
             "#7201a8"
            ],
            [
             0.3333333333333333,
             "#9c179e"
            ],
            [
             0.4444444444444444,
             "#bd3786"
            ],
            [
             0.5555555555555556,
             "#d8576b"
            ],
            [
             0.6666666666666666,
             "#ed7953"
            ],
            [
             0.7777777777777778,
             "#fb9f3a"
            ],
            [
             0.8888888888888888,
             "#fdca26"
            ],
            [
             1,
             "#f0f921"
            ]
           ],
           "sequentialminus": [
            [
             0,
             "#0d0887"
            ],
            [
             0.1111111111111111,
             "#46039f"
            ],
            [
             0.2222222222222222,
             "#7201a8"
            ],
            [
             0.3333333333333333,
             "#9c179e"
            ],
            [
             0.4444444444444444,
             "#bd3786"
            ],
            [
             0.5555555555555556,
             "#d8576b"
            ],
            [
             0.6666666666666666,
             "#ed7953"
            ],
            [
             0.7777777777777778,
             "#fb9f3a"
            ],
            [
             0.8888888888888888,
             "#fdca26"
            ],
            [
             1,
             "#f0f921"
            ]
           ]
          },
          "colorway": [
           "#636efa",
           "#EF553B",
           "#00cc96",
           "#ab63fa",
           "#FFA15A",
           "#19d3f3",
           "#FF6692",
           "#B6E880",
           "#FF97FF",
           "#FECB52"
          ],
          "font": {
           "color": "#2a3f5f"
          },
          "geo": {
           "bgcolor": "white",
           "lakecolor": "white",
           "landcolor": "#E5ECF6",
           "showlakes": true,
           "showland": true,
           "subunitcolor": "white"
          },
          "hoverlabel": {
           "align": "left"
          },
          "hovermode": "closest",
          "mapbox": {
           "style": "light"
          },
          "paper_bgcolor": "white",
          "plot_bgcolor": "#E5ECF6",
          "polar": {
           "angularaxis": {
            "gridcolor": "white",
            "linecolor": "white",
            "ticks": ""
           },
           "bgcolor": "#E5ECF6",
           "radialaxis": {
            "gridcolor": "white",
            "linecolor": "white",
            "ticks": ""
           }
          },
          "scene": {
           "xaxis": {
            "backgroundcolor": "#E5ECF6",
            "gridcolor": "white",
            "gridwidth": 2,
            "linecolor": "white",
            "showbackground": true,
            "ticks": "",
            "zerolinecolor": "white"
           },
           "yaxis": {
            "backgroundcolor": "#E5ECF6",
            "gridcolor": "white",
            "gridwidth": 2,
            "linecolor": "white",
            "showbackground": true,
            "ticks": "",
            "zerolinecolor": "white"
           },
           "zaxis": {
            "backgroundcolor": "#E5ECF6",
            "gridcolor": "white",
            "gridwidth": 2,
            "linecolor": "white",
            "showbackground": true,
            "ticks": "",
            "zerolinecolor": "white"
           }
          },
          "shapedefaults": {
           "line": {
            "color": "#2a3f5f"
           }
          },
          "ternary": {
           "aaxis": {
            "gridcolor": "white",
            "linecolor": "white",
            "ticks": ""
           },
           "baxis": {
            "gridcolor": "white",
            "linecolor": "white",
            "ticks": ""
           },
           "bgcolor": "#E5ECF6",
           "caxis": {
            "gridcolor": "white",
            "linecolor": "white",
            "ticks": ""
           }
          },
          "title": {
           "x": 0.05
          },
          "xaxis": {
           "automargin": true,
           "gridcolor": "white",
           "linecolor": "white",
           "ticks": "",
           "title": {
            "standoff": 15
           },
           "zerolinecolor": "white",
           "zerolinewidth": 2
          },
          "yaxis": {
           "automargin": true,
           "gridcolor": "white",
           "linecolor": "white",
           "ticks": "",
           "title": {
            "standoff": 15
           },
           "zerolinecolor": "white",
           "zerolinewidth": 2
          }
         }
        },
        "title": {
         "text": "Males 16-64 age group"
        }
       }
      }
     },
     "metadata": {},
     "output_type": "display_data"
    }
   ],
   "source": [
    "import plotly.graph_objects as go\n",
    "from plotly.subplots import make_subplots\n",
    "\n",
    "# Filter datasets for European Union\n",
    "eu_data1 = created1[created1['N_BOOK (Labels)'] == 'European Union - 27 countries (from 2020)']\n",
    "eu_data2 = created2[created2['N_BOOK (Labels)'] == 'European Union - 27 countries (from 2020)']\n",
    "\n",
    "# Filter datasets for Poland\n",
    "pl_data1 = created1[created1['N_BOOK (Labels)'] == 'Poland']\n",
    "pl_data2 = created2[created2['N_BOOK (Labels)'] == 'Poland']\n",
    "\n",
    "# Combine the filtered datasets\n",
    "eu_combined = pd.concat([eu_data1, eu_data2])\n",
    "pl_combined = pd.concat([pl_data1, pl_data2])\n",
    "\n",
    "eu_combined = eu_combined.drop(columns=['N_BOOK (Labels)'])\n",
    "pl_combined = pl_combined.drop(columns=['N_BOOK (Labels)'])\n",
    "eu_combined = eu_combined.reset_index(drop=True)\n",
    "pl_combined = pl_combined.reset_index(drop=True)\n",
    "\n",
    "# Create subplots: use 'domain' type for pie charts\n",
    "fig_male = make_subplots(rows=1, cols=2, specs=[[{'type': 'domain'}, {'type': 'domain'}]],\n",
    "                    subplot_titles=['European Union', 'Poland'])\n",
    "\n",
    "# Add the European Union donut chart\n",
    "fig_male.add_trace(go.Pie(labels=eu_combined.columns, values=eu_combined.values[0], name='EU'),\n",
    "              row=1, col=1)\n",
    "\n",
    "\n",
    "# Add the Poland donut chart\n",
    "fig_male.add_trace(go.Pie(labels=pl_combined.columns, values=pl_combined.values[0], name='Poland'),\n",
    "              row=1, col=2)\n",
    "\n",
    "\n",
    "# Update layout for the figure\n",
    "fig_male.update_layout(\n",
    "    title_text='Males 16-64 age group',\n",
    "    annotations=[dict(text='EU', x=0.25, y=1, font_size=20, showarrow=False),\n",
    "                 dict(text='Poland', x=0.75, y=1, font_size=20, showarrow=False)]\n",
    ")\n",
    "\n",
    "# Show the figure\n",
    "fig_male.show()"
   ]
  },
  {
   "cell_type": "code",
   "execution_count": 72,
   "metadata": {},
   "outputs": [
    {
     "data": {
      "application/vnd.plotly.v1+json": {
       "config": {
        "plotlyServerURL": "https://plot.ly"
       },
       "data": [
        {
         "domain": {
          "x": [
           0,
           0.45
          ],
          "y": [
           0,
           1
          ]
         },
         "labels": [
          "No books",
          "Less than 5 books",
          "From 5 to 9 books",
          "10 books or more"
         ],
         "name": "EU",
         "type": "pie",
         "values": [
          35.8,
          31.3,
          15.5,
          17.5
         ]
        },
        {
         "domain": {
          "x": [
           0.55,
           1
          ],
          "y": [
           0,
           1
          ]
         },
         "labels": [
          "No books",
          "Less than 5 books",
          "From 5 to 9 books",
          "10 books or more"
         ],
         "name": "Poland",
         "type": "pie",
         "values": [
          28.3,
          27.7,
          19.2,
          24.8
         ]
        }
       ],
       "layout": {
        "annotations": [
         {
          "font": {
           "size": 20
          },
          "showarrow": false,
          "text": "EU",
          "x": 0.25,
          "xanchor": "center",
          "xref": "paper",
          "y": 1,
          "yanchor": "bottom",
          "yref": "paper"
         },
         {
          "font": {
           "size": 20
          },
          "showarrow": false,
          "text": "Poland",
          "x": 0.75,
          "xanchor": "center",
          "xref": "paper",
          "y": 1,
          "yanchor": "bottom",
          "yref": "paper"
         }
        ],
        "template": {
         "data": {
          "bar": [
           {
            "error_x": {
             "color": "#2a3f5f"
            },
            "error_y": {
             "color": "#2a3f5f"
            },
            "marker": {
             "line": {
              "color": "#E5ECF6",
              "width": 0.5
             },
             "pattern": {
              "fillmode": "overlay",
              "size": 10,
              "solidity": 0.2
             }
            },
            "type": "bar"
           }
          ],
          "barpolar": [
           {
            "marker": {
             "line": {
              "color": "#E5ECF6",
              "width": 0.5
             },
             "pattern": {
              "fillmode": "overlay",
              "size": 10,
              "solidity": 0.2
             }
            },
            "type": "barpolar"
           }
          ],
          "carpet": [
           {
            "aaxis": {
             "endlinecolor": "#2a3f5f",
             "gridcolor": "white",
             "linecolor": "white",
             "minorgridcolor": "white",
             "startlinecolor": "#2a3f5f"
            },
            "baxis": {
             "endlinecolor": "#2a3f5f",
             "gridcolor": "white",
             "linecolor": "white",
             "minorgridcolor": "white",
             "startlinecolor": "#2a3f5f"
            },
            "type": "carpet"
           }
          ],
          "choropleth": [
           {
            "colorbar": {
             "outlinewidth": 0,
             "ticks": ""
            },
            "type": "choropleth"
           }
          ],
          "contour": [
           {
            "colorbar": {
             "outlinewidth": 0,
             "ticks": ""
            },
            "colorscale": [
             [
              0,
              "#0d0887"
             ],
             [
              0.1111111111111111,
              "#46039f"
             ],
             [
              0.2222222222222222,
              "#7201a8"
             ],
             [
              0.3333333333333333,
              "#9c179e"
             ],
             [
              0.4444444444444444,
              "#bd3786"
             ],
             [
              0.5555555555555556,
              "#d8576b"
             ],
             [
              0.6666666666666666,
              "#ed7953"
             ],
             [
              0.7777777777777778,
              "#fb9f3a"
             ],
             [
              0.8888888888888888,
              "#fdca26"
             ],
             [
              1,
              "#f0f921"
             ]
            ],
            "type": "contour"
           }
          ],
          "contourcarpet": [
           {
            "colorbar": {
             "outlinewidth": 0,
             "ticks": ""
            },
            "type": "contourcarpet"
           }
          ],
          "heatmap": [
           {
            "colorbar": {
             "outlinewidth": 0,
             "ticks": ""
            },
            "colorscale": [
             [
              0,
              "#0d0887"
             ],
             [
              0.1111111111111111,
              "#46039f"
             ],
             [
              0.2222222222222222,
              "#7201a8"
             ],
             [
              0.3333333333333333,
              "#9c179e"
             ],
             [
              0.4444444444444444,
              "#bd3786"
             ],
             [
              0.5555555555555556,
              "#d8576b"
             ],
             [
              0.6666666666666666,
              "#ed7953"
             ],
             [
              0.7777777777777778,
              "#fb9f3a"
             ],
             [
              0.8888888888888888,
              "#fdca26"
             ],
             [
              1,
              "#f0f921"
             ]
            ],
            "type": "heatmap"
           }
          ],
          "heatmapgl": [
           {
            "colorbar": {
             "outlinewidth": 0,
             "ticks": ""
            },
            "colorscale": [
             [
              0,
              "#0d0887"
             ],
             [
              0.1111111111111111,
              "#46039f"
             ],
             [
              0.2222222222222222,
              "#7201a8"
             ],
             [
              0.3333333333333333,
              "#9c179e"
             ],
             [
              0.4444444444444444,
              "#bd3786"
             ],
             [
              0.5555555555555556,
              "#d8576b"
             ],
             [
              0.6666666666666666,
              "#ed7953"
             ],
             [
              0.7777777777777778,
              "#fb9f3a"
             ],
             [
              0.8888888888888888,
              "#fdca26"
             ],
             [
              1,
              "#f0f921"
             ]
            ],
            "type": "heatmapgl"
           }
          ],
          "histogram": [
           {
            "marker": {
             "pattern": {
              "fillmode": "overlay",
              "size": 10,
              "solidity": 0.2
             }
            },
            "type": "histogram"
           }
          ],
          "histogram2d": [
           {
            "colorbar": {
             "outlinewidth": 0,
             "ticks": ""
            },
            "colorscale": [
             [
              0,
              "#0d0887"
             ],
             [
              0.1111111111111111,
              "#46039f"
             ],
             [
              0.2222222222222222,
              "#7201a8"
             ],
             [
              0.3333333333333333,
              "#9c179e"
             ],
             [
              0.4444444444444444,
              "#bd3786"
             ],
             [
              0.5555555555555556,
              "#d8576b"
             ],
             [
              0.6666666666666666,
              "#ed7953"
             ],
             [
              0.7777777777777778,
              "#fb9f3a"
             ],
             [
              0.8888888888888888,
              "#fdca26"
             ],
             [
              1,
              "#f0f921"
             ]
            ],
            "type": "histogram2d"
           }
          ],
          "histogram2dcontour": [
           {
            "colorbar": {
             "outlinewidth": 0,
             "ticks": ""
            },
            "colorscale": [
             [
              0,
              "#0d0887"
             ],
             [
              0.1111111111111111,
              "#46039f"
             ],
             [
              0.2222222222222222,
              "#7201a8"
             ],
             [
              0.3333333333333333,
              "#9c179e"
             ],
             [
              0.4444444444444444,
              "#bd3786"
             ],
             [
              0.5555555555555556,
              "#d8576b"
             ],
             [
              0.6666666666666666,
              "#ed7953"
             ],
             [
              0.7777777777777778,
              "#fb9f3a"
             ],
             [
              0.8888888888888888,
              "#fdca26"
             ],
             [
              1,
              "#f0f921"
             ]
            ],
            "type": "histogram2dcontour"
           }
          ],
          "mesh3d": [
           {
            "colorbar": {
             "outlinewidth": 0,
             "ticks": ""
            },
            "type": "mesh3d"
           }
          ],
          "parcoords": [
           {
            "line": {
             "colorbar": {
              "outlinewidth": 0,
              "ticks": ""
             }
            },
            "type": "parcoords"
           }
          ],
          "pie": [
           {
            "automargin": true,
            "type": "pie"
           }
          ],
          "scatter": [
           {
            "fillpattern": {
             "fillmode": "overlay",
             "size": 10,
             "solidity": 0.2
            },
            "type": "scatter"
           }
          ],
          "scatter3d": [
           {
            "line": {
             "colorbar": {
              "outlinewidth": 0,
              "ticks": ""
             }
            },
            "marker": {
             "colorbar": {
              "outlinewidth": 0,
              "ticks": ""
             }
            },
            "type": "scatter3d"
           }
          ],
          "scattercarpet": [
           {
            "marker": {
             "colorbar": {
              "outlinewidth": 0,
              "ticks": ""
             }
            },
            "type": "scattercarpet"
           }
          ],
          "scattergeo": [
           {
            "marker": {
             "colorbar": {
              "outlinewidth": 0,
              "ticks": ""
             }
            },
            "type": "scattergeo"
           }
          ],
          "scattergl": [
           {
            "marker": {
             "colorbar": {
              "outlinewidth": 0,
              "ticks": ""
             }
            },
            "type": "scattergl"
           }
          ],
          "scattermapbox": [
           {
            "marker": {
             "colorbar": {
              "outlinewidth": 0,
              "ticks": ""
             }
            },
            "type": "scattermapbox"
           }
          ],
          "scatterpolar": [
           {
            "marker": {
             "colorbar": {
              "outlinewidth": 0,
              "ticks": ""
             }
            },
            "type": "scatterpolar"
           }
          ],
          "scatterpolargl": [
           {
            "marker": {
             "colorbar": {
              "outlinewidth": 0,
              "ticks": ""
             }
            },
            "type": "scatterpolargl"
           }
          ],
          "scatterternary": [
           {
            "marker": {
             "colorbar": {
              "outlinewidth": 0,
              "ticks": ""
             }
            },
            "type": "scatterternary"
           }
          ],
          "surface": [
           {
            "colorbar": {
             "outlinewidth": 0,
             "ticks": ""
            },
            "colorscale": [
             [
              0,
              "#0d0887"
             ],
             [
              0.1111111111111111,
              "#46039f"
             ],
             [
              0.2222222222222222,
              "#7201a8"
             ],
             [
              0.3333333333333333,
              "#9c179e"
             ],
             [
              0.4444444444444444,
              "#bd3786"
             ],
             [
              0.5555555555555556,
              "#d8576b"
             ],
             [
              0.6666666666666666,
              "#ed7953"
             ],
             [
              0.7777777777777778,
              "#fb9f3a"
             ],
             [
              0.8888888888888888,
              "#fdca26"
             ],
             [
              1,
              "#f0f921"
             ]
            ],
            "type": "surface"
           }
          ],
          "table": [
           {
            "cells": {
             "fill": {
              "color": "#EBF0F8"
             },
             "line": {
              "color": "white"
             }
            },
            "header": {
             "fill": {
              "color": "#C8D4E3"
             },
             "line": {
              "color": "white"
             }
            },
            "type": "table"
           }
          ]
         },
         "layout": {
          "annotationdefaults": {
           "arrowcolor": "#2a3f5f",
           "arrowhead": 0,
           "arrowwidth": 1
          },
          "autotypenumbers": "strict",
          "coloraxis": {
           "colorbar": {
            "outlinewidth": 0,
            "ticks": ""
           }
          },
          "colorscale": {
           "diverging": [
            [
             0,
             "#8e0152"
            ],
            [
             0.1,
             "#c51b7d"
            ],
            [
             0.2,
             "#de77ae"
            ],
            [
             0.3,
             "#f1b6da"
            ],
            [
             0.4,
             "#fde0ef"
            ],
            [
             0.5,
             "#f7f7f7"
            ],
            [
             0.6,
             "#e6f5d0"
            ],
            [
             0.7,
             "#b8e186"
            ],
            [
             0.8,
             "#7fbc41"
            ],
            [
             0.9,
             "#4d9221"
            ],
            [
             1,
             "#276419"
            ]
           ],
           "sequential": [
            [
             0,
             "#0d0887"
            ],
            [
             0.1111111111111111,
             "#46039f"
            ],
            [
             0.2222222222222222,
             "#7201a8"
            ],
            [
             0.3333333333333333,
             "#9c179e"
            ],
            [
             0.4444444444444444,
             "#bd3786"
            ],
            [
             0.5555555555555556,
             "#d8576b"
            ],
            [
             0.6666666666666666,
             "#ed7953"
            ],
            [
             0.7777777777777778,
             "#fb9f3a"
            ],
            [
             0.8888888888888888,
             "#fdca26"
            ],
            [
             1,
             "#f0f921"
            ]
           ],
           "sequentialminus": [
            [
             0,
             "#0d0887"
            ],
            [
             0.1111111111111111,
             "#46039f"
            ],
            [
             0.2222222222222222,
             "#7201a8"
            ],
            [
             0.3333333333333333,
             "#9c179e"
            ],
            [
             0.4444444444444444,
             "#bd3786"
            ],
            [
             0.5555555555555556,
             "#d8576b"
            ],
            [
             0.6666666666666666,
             "#ed7953"
            ],
            [
             0.7777777777777778,
             "#fb9f3a"
            ],
            [
             0.8888888888888888,
             "#fdca26"
            ],
            [
             1,
             "#f0f921"
            ]
           ]
          },
          "colorway": [
           "#636efa",
           "#EF553B",
           "#00cc96",
           "#ab63fa",
           "#FFA15A",
           "#19d3f3",
           "#FF6692",
           "#B6E880",
           "#FF97FF",
           "#FECB52"
          ],
          "font": {
           "color": "#2a3f5f"
          },
          "geo": {
           "bgcolor": "white",
           "lakecolor": "white",
           "landcolor": "#E5ECF6",
           "showlakes": true,
           "showland": true,
           "subunitcolor": "white"
          },
          "hoverlabel": {
           "align": "left"
          },
          "hovermode": "closest",
          "mapbox": {
           "style": "light"
          },
          "paper_bgcolor": "white",
          "plot_bgcolor": "#E5ECF6",
          "polar": {
           "angularaxis": {
            "gridcolor": "white",
            "linecolor": "white",
            "ticks": ""
           },
           "bgcolor": "#E5ECF6",
           "radialaxis": {
            "gridcolor": "white",
            "linecolor": "white",
            "ticks": ""
           }
          },
          "scene": {
           "xaxis": {
            "backgroundcolor": "#E5ECF6",
            "gridcolor": "white",
            "gridwidth": 2,
            "linecolor": "white",
            "showbackground": true,
            "ticks": "",
            "zerolinecolor": "white"
           },
           "yaxis": {
            "backgroundcolor": "#E5ECF6",
            "gridcolor": "white",
            "gridwidth": 2,
            "linecolor": "white",
            "showbackground": true,
            "ticks": "",
            "zerolinecolor": "white"
           },
           "zaxis": {
            "backgroundcolor": "#E5ECF6",
            "gridcolor": "white",
            "gridwidth": 2,
            "linecolor": "white",
            "showbackground": true,
            "ticks": "",
            "zerolinecolor": "white"
           }
          },
          "shapedefaults": {
           "line": {
            "color": "#2a3f5f"
           }
          },
          "ternary": {
           "aaxis": {
            "gridcolor": "white",
            "linecolor": "white",
            "ticks": ""
           },
           "baxis": {
            "gridcolor": "white",
            "linecolor": "white",
            "ticks": ""
           },
           "bgcolor": "#E5ECF6",
           "caxis": {
            "gridcolor": "white",
            "linecolor": "white",
            "ticks": ""
           }
          },
          "title": {
           "x": 0.05
          },
          "xaxis": {
           "automargin": true,
           "gridcolor": "white",
           "linecolor": "white",
           "ticks": "",
           "title": {
            "standoff": 15
           },
           "zerolinecolor": "white",
           "zerolinewidth": 2
          },
          "yaxis": {
           "automargin": true,
           "gridcolor": "white",
           "linecolor": "white",
           "ticks": "",
           "title": {
            "standoff": 15
           },
           "zerolinecolor": "white",
           "zerolinewidth": 2
          }
         }
        },
        "title": {
         "text": "Females 16-64 age group"
        }
       }
      }
     },
     "metadata": {},
     "output_type": "display_data"
    }
   ],
   "source": [
    "# Create subplots: use 'domain' type for pie charts\n",
    "fig_female = make_subplots(rows=1, cols=2, specs=[[{'type': 'domain'}, {'type': 'domain'}]],\n",
    "                    subplot_titles=['European Union', 'Poland'])\n",
    "\n",
    "# Add the European Union donut chart\n",
    "fig_female.add_trace(go.Pie(labels=eu_combined.columns, values=eu_combined.values[1], name='EU'),\n",
    "              row=1, col=1)\n",
    "\n",
    "\n",
    "# Add the Poland donut chart\n",
    "fig_female.add_trace(go.Pie(labels=pl_combined.columns, values=pl_combined.values[1], name='Poland'),\n",
    "              row=1, col=2)\n",
    "\n",
    "\n",
    "# Update layout for the figure\n",
    "fig_female.update_layout(\n",
    "    title_text='Females 16-64 age group',\n",
    "    annotations=[dict(text='EU', x=0.25, y=1, font_size=20, showarrow=False),\n",
    "                 dict(text='Poland', x=0.75, y=1, font_size=20, showarrow=False)]\n",
    ")\n",
    "\n",
    "# Show the figure\n",
    "fig_female.show()"
   ]
  },
  {
   "cell_type": "code",
   "execution_count": null,
   "metadata": {},
   "outputs": [],
   "source": []
  }
 ],
 "metadata": {
  "kernelspec": {
   "display_name": "Python 3",
   "language": "python",
   "name": "python3"
  },
  "language_info": {
   "codemirror_mode": {
    "name": "ipython",
    "version": 3
   },
   "file_extension": ".py",
   "mimetype": "text/x-python",
   "name": "python",
   "nbconvert_exporter": "python",
   "pygments_lexer": "ipython3",
   "version": "3.11.9"
  }
 },
 "nbformat": 4,
 "nbformat_minor": 2
}
